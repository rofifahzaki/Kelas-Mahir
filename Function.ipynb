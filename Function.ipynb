{
  "nbformat": 4,
  "nbformat_minor": 0,
  "metadata": {
    "colab": {
      "name": "Function.ipynb",
      "provenance": []
    },
    "kernelspec": {
      "name": "python3",
      "display_name": "Python 3"
    },
    "language_info": {
      "name": "python"
    }
  },
  "cells": [
    {
      "cell_type": "markdown",
      "metadata": {
        "id": "szGntE9s1bpK"
      },
      "source": [
        "#**Pembukaan**"
      ]
    },
    {
      "cell_type": "markdown",
      "metadata": {
        "id": "nRGB3Owr18A2"
      },
      "source": [
        "Assalamu'alaikum warahmatullahi wabarakatuh. Puji syukur kehadirat Allah Subhana Wata'ala atas limpahan Rahmat dan HidayahNya kepada kita semua. Sholawat serta salam senantiasa tercurah limpahkan kepada baginda Muhammad Rasulullah Salallahualaihiwassalam."
      ]
    },
    {
      "cell_type": "markdown",
      "metadata": {
        "id": "pQio8ep82R1j"
      },
      "source": [
        "Halo para para pembaca. Selamat berjumpa di pertemuan pertama Program Training Algoritma Machine Learning Kelas Mahir."
      ]
    },
    {
      "cell_type": "markdown",
      "metadata": {
        "id": "vzaEOM1QsQoR"
      },
      "source": [
        "Pada pertemuan ini kita akan belajar:\n",
        "\n",
        "*   Fungsi Pada Python\n",
        "*   Keyword & Argument\n",
        "*   Membuat Fungsi Pada Python\n",
        "*   Positional Argument & Keyword\n",
        "*   Argument Default\n",
        "*   Contoh User Defined Function\n",
        "*   Latihan"
      ]
    },
    {
      "cell_type": "markdown",
      "metadata": {
        "id": "74v_BWdO3Hmi"
      },
      "source": [
        "#**Function**"
      ]
    },
    {
      "cell_type": "markdown",
      "metadata": {
        "id": "NX89FbfF3NWM"
      },
      "source": [
        "Function adalah sebuah blok statemen yang hanya akan dijalankan saat ia dipanggil."
      ]
    },
    {
      "cell_type": "code",
      "metadata": {
        "colab": {
          "base_uri": "https://localhost:8080/"
        },
        "id": "jboHzZw13hVK",
        "outputId": "c366d47e-4c3a-4833-a412-f7a2d9d485c0"
      },
      "source": [
        "genap = [2,4,6,8,10]\n",
        "len(genap)"
      ],
      "execution_count": 2,
      "outputs": [
        {
          "output_type": "execute_result",
          "data": {
            "text/plain": [
              "5"
            ]
          },
          "metadata": {},
          "execution_count": 2
        }
      ]
    },
    {
      "cell_type": "code",
      "metadata": {
        "colab": {
          "base_uri": "https://localhost:8080/"
        },
        "id": "VRve7hkn3nkr",
        "outputId": "e6051432-752f-4c85-f891-ee9584469e4f"
      },
      "source": [
        "print('Assalamualaikum Dunia')"
      ],
      "execution_count": 3,
      "outputs": [
        {
          "output_type": "stream",
          "name": "stdout",
          "text": [
            "Assalamualaikum Dunia\n"
          ]
        }
      ]
    },
    {
      "cell_type": "markdown",
      "metadata": {
        "id": "U6N-NVCf3tgb"
      },
      "source": [
        "#**Keyword & Argument!**"
      ]
    },
    {
      "cell_type": "markdown",
      "metadata": {
        "id": "hh-YKCzh4IDe"
      },
      "source": [
        "**Keyword/Parameter** : variable yang digunakan dalam deklarasi fungsi\n",
        "\n",
        "**Argumen**t: nilai yang diberikan saat pemanggilan fungsi\n",
        "\n"
      ]
    },
    {
      "cell_type": "code",
      "metadata": {
        "colab": {
          "base_uri": "https://localhost:8080/"
        },
        "id": "4ntacyQA4P9-",
        "outputId": "b1314e65-2583-4ce6-f152-0f2b9b33cfec"
      },
      "source": [
        "# sep = keyword/argument\n",
        "# '-' = argument\n",
        "print('kata1', 'kata2', sep='/')"
      ],
      "execution_count": 4,
      "outputs": [
        {
          "output_type": "stream",
          "name": "stdout",
          "text": [
            "kata1/kata2\n"
          ]
        }
      ]
    },
    {
      "cell_type": "markdown",
      "metadata": {
        "id": "ZJYfd8m-qZdD"
      },
      "source": [
        "#**Membuat Fungsi**"
      ]
    },
    {
      "cell_type": "markdown",
      "metadata": {
        "id": "jCdKcH5HqnVP"
      },
      "source": [
        "Python mengizinkan untuk mendeklarasikan fungsi dalam kode yang dituliskan yang dikenal dengan **user defined function.**"
      ]
    },
    {
      "cell_type": "code",
      "metadata": {
        "id": "oI0szmloq4PR"
      },
      "source": [
        "def nama_fungsi(argument):\n",
        "  pernyataan_1\n",
        "\n",
        "  pernyataan_n\n",
        "return nilai_keluaran"
      ],
      "execution_count": null,
      "outputs": []
    },
    {
      "cell_type": "code",
      "metadata": {
        "id": "HxYQD4Y-rXL5"
      },
      "source": [
        "#Pendefinisian fungsi_kuadrat\n",
        "def fungsi_kuadrat(x):\n",
        "  hasil = x**2\n",
        "  return hasil"
      ],
      "execution_count": 6,
      "outputs": []
    },
    {
      "cell_type": "code",
      "metadata": {
        "id": "U4pvY4G2riSq"
      },
      "source": [
        "#Alternatif pendefinisian fungsi_kuadrat\n",
        "def fungsi_kuadrat(x):\n",
        "  return x**2"
      ],
      "execution_count": 7,
      "outputs": []
    },
    {
      "cell_type": "code",
      "metadata": {
        "colab": {
          "base_uri": "https://localhost:8080/"
        },
        "id": "fhXSq_rsrxOp",
        "outputId": "e274658d-d706-46ac-cfa2-61602e729300"
      },
      "source": [
        "#Pemanggilan fungsi_kuadrat\n",
        "fungsi_kuadrat(6)"
      ],
      "execution_count": 8,
      "outputs": [
        {
          "output_type": "execute_result",
          "data": {
            "text/plain": [
              "36"
            ]
          },
          "metadata": {},
          "execution_count": 8
        }
      ]
    },
    {
      "cell_type": "markdown",
      "metadata": {
        "id": "zsQdbcjOr6fX"
      },
      "source": [
        "#**Positional Argument & Keyword**"
      ]
    },
    {
      "cell_type": "markdown",
      "metadata": {
        "id": "wH07j1MNsAE9"
      },
      "source": [
        "Kita bisa menyatakan argumen sebagai positional argument atau keyword. Beberapa manfaat argumen kata\n",
        "kunci dapat berupa:\n",
        "\n",
        "\n",
        "*   Kita dapat menyebut argumen dengan nama mereka untuk memperjelas apa yang mereka wakili\n",
        "*   Kita dapat mengatur ulang argumen dengan cara yang membuatnya paling mudah dibaca\n",
        "\n"
      ]
    },
    {
      "cell_type": "code",
      "metadata": {
        "id": "AsyuYPuYsPbK"
      },
      "source": [
        "#Mendefinisikan fungsi dengan beberapa argumen\n",
        "def tampilkan_kata(a, b, c):\n",
        "  print(a, b, c)"
      ],
      "execution_count": 9,
      "outputs": []
    },
    {
      "cell_type": "code",
      "metadata": {
        "colab": {
          "base_uri": "https://localhost:8080/"
        },
        "id": "uklTAdQSsdBr",
        "outputId": "cd4a7fe1-bb3a-4a2c-faa6-0a8e89765583"
      },
      "source": [
        "#Positional Arguments\n",
        "tampilkan_kata('aku', 'kau', 'dia')"
      ],
      "execution_count": 10,
      "outputs": [
        {
          "output_type": "stream",
          "name": "stdout",
          "text": [
            "aku kau dia\n"
          ]
        }
      ]
    },
    {
      "cell_type": "code",
      "metadata": {
        "colab": {
          "base_uri": "https://localhost:8080/"
        },
        "id": "COOnU1y_sqs3",
        "outputId": "18dc74f0-1b34-40d4-f05c-191a3a2105e9"
      },
      "source": [
        "tampilkan_kata('kau', 'aku', 'dia')"
      ],
      "execution_count": 11,
      "outputs": [
        {
          "output_type": "stream",
          "name": "stdout",
          "text": [
            "kau aku dia\n"
          ]
        }
      ]
    },
    {
      "cell_type": "code",
      "metadata": {
        "colab": {
          "base_uri": "https://localhost:8080/"
        },
        "id": "qL9fUZ3EtTUA",
        "outputId": "737d8153-4396-4c0c-f986-4ced6e7c4bf0"
      },
      "source": [
        "#Argumen berdasarkan keyword-nya\n",
        "tampilkan_kata(a='aku', b='kau', c='dia')\n",
        "tampilkan_kata(c='dia', b='kau', a='aku')"
      ],
      "execution_count": 12,
      "outputs": [
        {
          "output_type": "stream",
          "name": "stdout",
          "text": [
            "aku kau dia\n",
            "aku kau dia\n"
          ]
        }
      ]
    },
    {
      "cell_type": "markdown",
      "metadata": {
        "id": "pVSaN15otl8s"
      },
      "source": [
        "Catatan: jika sudah diberi kunci maka urutan tidak menjadi penting"
      ]
    },
    {
      "cell_type": "code",
      "metadata": {
        "colab": {
          "base_uri": "https://localhost:8080/"
        },
        "id": "ybv2QsUvttBA",
        "outputId": "b4341066-5bf7-4270-b017-90f45fe9dc96"
      },
      "source": [
        "#Campuran antara argumen posisi dan argumen kata kunci\n",
        "tampilkan_kata('aku', b='kau', c='dia')"
      ],
      "execution_count": 13,
      "outputs": [
        {
          "output_type": "stream",
          "name": "stdout",
          "text": [
            "aku kau dia\n"
          ]
        }
      ]
    },
    {
      "cell_type": "markdown",
      "metadata": {
        "id": "Lphgv1-Ft6fl"
      },
      "source": [
        "**Ini tidak diijinkan:**\n",
        "\n",
        "\n",
        "*   Positional argument setelah keyword argument\n",
        "\n",
        "          tampilkan_kata('aku', b='kau', 'dia')\n",
        "*   Terdapat dua nilai untuk satu keyword argument yang sama\n",
        "\n",
        "          tampilkan_kata(1, b=2, a=3)\n",
        "\n"
      ]
    },
    {
      "cell_type": "markdown",
      "metadata": {
        "id": "-H-LEUF94rcN"
      },
      "source": [
        "#**Argument Default**"
      ]
    },
    {
      "cell_type": "markdown",
      "metadata": {
        "id": "IiProM824uUl"
      },
      "source": [
        "Fungsi dapat memiliki argumen default dengan nilai yang telah ditentukan sebelumnya. Argumen ini dapat ditinggalkan dan nilai default kemudian diteruskan ke fungsi, atau argumen dapat dirubah dengan nilai yang berbeda. Perhatikan bahwa argumen default harus ditentukan sebagai **parameter terakhir** dalam suatu fungsi."
      ]
    },
    {
      "cell_type": "code",
      "metadata": {
        "colab": {
          "base_uri": "https://localhost:8080/"
        },
        "id": "wqlmCt3R47eL",
        "outputId": "8a2593f1-32be-42d0-e0f6-dcd14fca643c"
      },
      "source": [
        "#Argumen default\n",
        "def tampilkan_kata(a, b, c, d='sahabat'):\n",
        "  print(a, b, c, d)\n",
        "\n",
        "tampilkan_kata('aku', 'kau', 'dia')\n",
        "tampilkan_kata('aku', b='kau', c='dia', d='teman')"
      ],
      "execution_count": 14,
      "outputs": [
        {
          "output_type": "stream",
          "name": "stdout",
          "text": [
            "aku kau dia sahabat\n",
            "aku kau dia teman\n"
          ]
        }
      ]
    },
    {
      "cell_type": "markdown",
      "metadata": {
        "id": "VOFvyUtN5dYV"
      },
      "source": [
        "**Catatan**: Argumen default harus diletakkan terakhir"
      ]
    },
    {
      "cell_type": "markdown",
      "metadata": {
        "id": "d7C1QzxQ5iRP"
      },
      "source": [
        "#**Contoh User Defined Function**"
      ]
    },
    {
      "cell_type": "markdown",
      "metadata": {
        "id": "OUZN6_8_5qOv"
      },
      "source": [
        "**Contoh 1:**\n",
        "\n",
        "Penjumlahan 2 bilangan"
      ]
    },
    {
      "cell_type": "code",
      "metadata": {
        "colab": {
          "base_uri": "https://localhost:8080/"
        },
        "id": "t6oHeJdO5xbk",
        "outputId": "5ec6d647-7dc7-4b54-fd01-c2fdc7683a4e"
      },
      "source": [
        "def penjumlahan (x,y):    #input\n",
        "  a=x+y                   #proses\n",
        "  return a                #output\n",
        "\n",
        "penjumlahan(1,2)"
      ],
      "execution_count": 15,
      "outputs": [
        {
          "output_type": "execute_result",
          "data": {
            "text/plain": [
              "3"
            ]
          },
          "metadata": {},
          "execution_count": 15
        }
      ]
    },
    {
      "cell_type": "markdown",
      "metadata": {
        "id": "KzAC9x-Y54qe"
      },
      "source": [
        "**Contoh 2:**\n",
        "\n",
        "Penjumlahan yang memungkinkan untuk tiga bilangan"
      ]
    },
    {
      "cell_type": "code",
      "metadata": {
        "colab": {
          "base_uri": "https://localhost:8080/"
        },
        "id": "hWW1LIr556II",
        "outputId": "dcac7198-4e97-4605-9c1b-ae42e2ac3392"
      },
      "source": [
        "def penjumlahan (x,y,z=None):\n",
        "  if (z==None):\n",
        "    return x+y\n",
        "  else:\n",
        "    return x+y+z\n",
        "  \n",
        "print(penjumlahan(1,2))\n",
        "print(penjumlahan(1,2,3))"
      ],
      "execution_count": null,
      "outputs": [
        {
          "output_type": "stream",
          "name": "stdout",
          "text": [
            "3\n",
            "6\n"
          ]
        }
      ]
    },
    {
      "cell_type": "markdown",
      "metadata": {
        "id": "pgIki2In6BCC"
      },
      "source": [
        "**Contoh 3:**\n",
        "\n",
        "Menghitung luas dan keliling persegi"
      ]
    },
    {
      "cell_type": "code",
      "metadata": {
        "colab": {
          "base_uri": "https://localhost:8080/"
        },
        "id": "gMUKqXG06DeS",
        "outputId": "33455935-3ed4-4c5f-f14c-8e9407d0a219"
      },
      "source": [
        "def luas_dan_keliling_persegi(s):\n",
        "  luas=s**2\n",
        "  keliling=4*s\n",
        "  return luas, keliling\n",
        "\n",
        "luas, keliling = luas_dan_keliling_persegi(2)\n",
        "print('luas :', luas)\n",
        "print('keliling :', keliling)"
      ],
      "execution_count": 16,
      "outputs": [
        {
          "output_type": "stream",
          "name": "stdout",
          "text": [
            "luas : 4\n",
            "keliling : 8\n"
          ]
        }
      ]
    },
    {
      "cell_type": "markdown",
      "metadata": {
        "id": "MjpRxu3Q6V6q"
      },
      "source": [
        "#**Latihan**"
      ]
    },
    {
      "cell_type": "markdown",
      "metadata": {
        "id": "tsp7qwN56V2l"
      },
      "source": [
        "\n",
        "1.   Buatlah sebuah fungsi untuk menghitung luas dan keliling lingkaran dengan input jari2!\n",
        "\n",
        "\n",
        "\n"
      ]
    },
    {
      "cell_type": "code",
      "metadata": {
        "colab": {
          "base_uri": "https://localhost:8080/"
        },
        "id": "zT4PGkDY6rwW",
        "outputId": "0cc34ae3-31fe-4c04-f3ea-0c31c6550158"
      },
      "source": [
        "def luas_dan_keliling_lingkaran(r):\n",
        "  phi = 3.14\n",
        "  luas = phi*r*r\n",
        "  keliling = 2*phi*r\n",
        "  return luas, keliling \n",
        "\n",
        "luas, keliling = luas_dan_keliling_lingkaran(100)\n",
        "print('luas:', luas)\n",
        "print('keliling:', keliling)"
      ],
      "execution_count": 17,
      "outputs": [
        {
          "output_type": "stream",
          "name": "stdout",
          "text": [
            "luas: 31400.0\n",
            "keliling: 628.0\n"
          ]
        }
      ]
    },
    {
      "cell_type": "markdown",
      "metadata": {
        "id": "PnZ-aA5Q6wK3"
      },
      "source": [
        "\n",
        "2.   \n",
        "Buatlah sebuah fungsi untuk menggabungkan dua kata dalam bentuk string bebas menjadi satu kata tanpa spasi dengan huruf kecil\n",
        "\n"
      ]
    },
    {
      "cell_type": "code",
      "metadata": {
        "colab": {
          "base_uri": "https://localhost:8080/"
        },
        "id": "u7aNgbmYRoiX",
        "outputId": "6046c7d4-ecd0-41c3-9f9c-8bd7f389aea6"
      },
      "source": [
        "def gabung_kata(x,y):\n",
        "  p = (x,y)\n",
        "  q = \"\".join(p)\n",
        "  s = q.lower()\n",
        "  return s\n",
        "\n",
        "s = gabung_kata('TANGKUBAN', 'PeRaHu')\n",
        "print(s)"
      ],
      "execution_count": 18,
      "outputs": [
        {
          "output_type": "stream",
          "name": "stdout",
          "text": [
            "tangkubanperahu\n"
          ]
        }
      ]
    },
    {
      "cell_type": "markdown",
      "metadata": {
        "id": "LlMl1jF4R5ZY"
      },
      "source": [
        "\n",
        "3.   Buatlah sebuah fungsi awal_akhir(list_input) untuk menukar elemen pertama pada sebuah list dengan elemen terakhir pada list yang sama!\n",
        "\n"
      ]
    },
    {
      "cell_type": "code",
      "metadata": {
        "colab": {
          "base_uri": "https://localhost:8080/"
        },
        "id": "yrk5O6HQSDlC",
        "outputId": "8b9764a6-e468-4648-9247-9b274a670eae"
      },
      "source": [
        "def awal_akhir(list_input):\n",
        "  list_input.sort(reverse = True)\n",
        "  return list_input\n",
        "\n",
        "list_input = awal_akhir([1,2,3,4])\n",
        "print(list_input)"
      ],
      "execution_count": 19,
      "outputs": [
        {
          "output_type": "stream",
          "name": "stdout",
          "text": [
            "[4, 3, 2, 1]\n"
          ]
        }
      ]
    }
  ]
}